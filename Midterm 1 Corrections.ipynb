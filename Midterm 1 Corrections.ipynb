{
 "cells": [
  {
   "cell_type": "markdown",
   "id": "88c1e2bc",
   "metadata": {},
   "source": [
    "# Question 1: Create a list of 10 numbers and find out the minimum, maximum, and total (sum) of the list. "
   ]
  },
  {
   "cell_type": "code",
   "execution_count": 1,
   "id": "7f0d010a",
   "metadata": {},
   "outputs": [
    {
     "name": "stdout",
     "output_type": "stream",
     "text": [
      "The minimum number is: 1\n",
      "The maximum number is: 10\n",
      "The sum is: 55\n"
     ]
    }
   ],
   "source": [
    "list1=[1,2,3,4,5,6,7,8,9,10]\n",
    "\n",
    "print(f\"The minimum number is: {min(list1)}\")\n",
    "\n",
    "print(f\"The maximum number is: {max(list1)}\")\n",
    "\n",
    "print(f\"The sum is: {sum(list1)}\")"
   ]
  },
  {
   "cell_type": "markdown",
   "id": "351b10bb",
   "metadata": {},
   "source": [
    "# Question 2: What is a nested If statement? Get input from a user and check whether the number is odd or not. If the number is odd it is also less than or equal to 20. If not, then print relevant information."
   ]
  },
  {
   "cell_type": "markdown",
   "id": "aa1cf907",
   "metadata": {},
   "source": [
    "#### Answer: A nested if statement is an IF function inside of another"
   ]
  },
  {
   "cell_type": "code",
   "execution_count": 4,
   "id": "4f212a93",
   "metadata": {},
   "outputs": [
    {
     "name": "stdout",
     "output_type": "stream",
     "text": [
      "Enter a number: 45\n",
      "relevant information\n"
     ]
    }
   ],
   "source": [
    "number = int(input(\"Enter a number: \")) \n",
    "\n",
    "if number % 2 != 0:\n",
    "    if number <= 20: \n",
    "        print(\"The number is odd and less than or equal to 20.\") \n",
    "    else:\n",
    "        print(\"relevant information\") \n",
    "else:\n",
    "    print(\"the number is not odd\")"
   ]
  },
  {
   "cell_type": "markdown",
   "id": "c36bf718",
   "metadata": {},
   "source": [
    "# Question 3: Get a user input of an integer number and check if the given number is a multiple of 11 or not. "
   ]
  },
  {
   "cell_type": "code",
   "execution_count": 6,
   "id": "5be0c474",
   "metadata": {},
   "outputs": [
    {
     "name": "stdout",
     "output_type": "stream",
     "text": [
      "Enter a number: 22\n",
      "22 is a multiple of 11\n"
     ]
    }
   ],
   "source": [
    "number=int(input(\"Enter a number: \"))\n",
    "if number%11==0:\n",
    "           print(f\"{number} is a multiple of 11\")\n",
    "else:\n",
    "           print(f\"{number} is not a multiple of 11\")"
   ]
  },
  {
   "cell_type": "markdown",
   "id": "c0abfe26",
   "metadata": {},
   "source": [
    "# Question 5: In the United States, as of 1995, a minor is generally legally defined as a person under the age of 18. Write a code to check whether a student is a minor or not where the input will be given by users."
   ]
  },
  {
   "cell_type": "code",
   "execution_count": 8,
   "id": "2f940a5a",
   "metadata": {},
   "outputs": [
    {
     "name": "stdout",
     "output_type": "stream",
     "text": [
      "Enter the age of the student: 22\n",
      "The student is 22 years old and is not a minor\n"
     ]
    }
   ],
   "source": [
    "student_age=int(input(\"Enter the age of the student: \"))\n",
    "if student_age>=18:\n",
    "                print(f\"The student is {student_age} years old and is not a minor\")\n",
    "elif student_age<=0:\n",
    "                print(\"Please enter a valid age\")\n",
    "else:\n",
    "                print(f\"The student is {student_age} years old, and is a minor\")"
   ]
  },
  {
   "cell_type": "markdown",
   "id": "47571bd7",
   "metadata": {},
   "source": [
    "# Question 8: Write down a program using a for loop that prints all numbers from 1 to 15 and adds them to a list called numbers_list. "
   ]
  },
  {
   "cell_type": "code",
   "execution_count": 9,
   "id": "a1f5d13f",
   "metadata": {},
   "outputs": [
    {
     "name": "stdout",
     "output_type": "stream",
     "text": [
      "1\n",
      "2\n",
      "3\n",
      "4\n",
      "5\n",
      "6\n",
      "7\n",
      "8\n",
      "9\n",
      "10\n",
      "11\n",
      "12\n",
      "13\n",
      "14\n",
      "15\n",
      "The list is:  [15]\n"
     ]
    }
   ],
   "source": [
    "numbers_list = [] \n",
    "for i in range(1, 16):\n",
    "    print(i) \n",
    "numbers_list.append(i)\n",
    "print(\"The list is: \",  numbers_list)"
   ]
  }
 ],
 "metadata": {
  "kernelspec": {
   "display_name": "Python 3 (ipykernel)",
   "language": "python",
   "name": "python3"
  },
  "language_info": {
   "codemirror_mode": {
    "name": "ipython",
    "version": 3
   },
   "file_extension": ".py",
   "mimetype": "text/x-python",
   "name": "python",
   "nbconvert_exporter": "python",
   "pygments_lexer": "ipython3",
   "version": "3.11.4"
  }
 },
 "nbformat": 4,
 "nbformat_minor": 5
}
