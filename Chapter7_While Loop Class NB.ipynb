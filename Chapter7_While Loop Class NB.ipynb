{
 "cells": [
  {
   "cell_type": "markdown",
   "metadata": {},
   "source": [
    "# While Loop\n",
    "* The for loop takes a collection of items and executes a block of code once for each item in the collection. \n",
    "* In contrast, the while loop runs as long as, or while, a certain condition is true."
   ]
  },
  {
   "cell_type": "markdown",
   "metadata": {},
   "source": [
    "## The while Loop in Action\n",
    "You can use a while loop to count up through a series of numbers. For\n",
    "example, the following while loop counts from 1 to 5:\n"
   ]
  },
  {
   "cell_type": "code",
   "execution_count": 1,
   "metadata": {},
   "outputs": [
    {
     "name": "stdout",
     "output_type": "stream",
     "text": [
      "1\n",
      "2\n",
      "3\n",
      "4\n",
      "5\n"
     ]
    }
   ],
   "source": [
    "# for loop to pint number 1-5\n",
    "for i in range(1,6):\n",
    "    print(i)"
   ]
  },
  {
   "cell_type": "code",
   "execution_count": 2,
   "metadata": {},
   "outputs": [
    {
     "name": "stdout",
     "output_type": "stream",
     "text": [
      "1\n",
      "2\n",
      "3\n",
      "4\n",
      "5\n"
     ]
    }
   ],
   "source": [
    "# initialize the value\n",
    "j=1\n",
    "# condition check\n",
    "while j<=5:\n",
    "    print(j)\n",
    "    # increment or it will generate an infinite loop\n",
    "    j=j+1"
   ]
  },
  {
   "cell_type": "code",
   "execution_count": 3,
   "metadata": {},
   "outputs": [
    {
     "name": "stdout",
     "output_type": "stream",
     "text": [
      "10 11 12 13 14 15 16 17 18 19 20 21 22 23 24 25 26 27 28 29 30 31 32 33 34 35 36 37 38 39 40 41 42 43 44 45 46 47 48 49 50 "
     ]
    }
   ],
   "source": [
    "# print number 10 to 50\n",
    "j=10\n",
    "while j<=50:\n",
    "    print(j, end=\" \")\n",
    "    j+=1 # j=j+1"
   ]
  },
  {
   "cell_type": "code",
   "execution_count": 5,
   "metadata": {},
   "outputs": [
    {
     "name": "stdout",
     "output_type": "stream",
     "text": [
      "10 12 14 16 18 20 22 24 26 28 30 32 34 36 38 40 42 44 46 48 50 "
     ]
    }
   ],
   "source": [
    "# print even numbers from 10 to 50 using while loop\n",
    "j=10\n",
    "while j<=50:\n",
    "    if j%2==0:\n",
    "        print(j, end=\" \")\n",
    "    j+=1"
   ]
  },
  {
   "cell_type": "markdown",
   "metadata": {},
   "source": [
    "# print odd numbers from 15 to 30 using while loop"
   ]
  },
  {
   "cell_type": "code",
   "execution_count": 8,
   "metadata": {},
   "outputs": [
    {
     "name": "stdout",
     "output_type": "stream",
     "text": [
      "15 17 19 21 23 25 27 29 "
     ]
    }
   ],
   "source": [
    "j=15\n",
    "while j<=30:\n",
    "    if j%2==1:\n",
    "        print(j, end=\" \")\n",
    "    j+=1"
   ]
  },
  {
   "cell_type": "code",
   "execution_count": 10,
   "metadata": {},
   "outputs": [
    {
     "name": "stdout",
     "output_type": "stream",
     "text": [
      "15 17 19 21 23 25 27 29 "
     ]
    }
   ],
   "source": [
    "for j in range(15,31):\n",
    "    if j%2==1:\n",
    "        print(j, end=\" \")"
   ]
  },
  {
   "cell_type": "markdown",
   "metadata": {},
   "source": [
    "# print hello 10 times using for loop and while loop"
   ]
  },
  {
   "cell_type": "code",
   "execution_count": 12,
   "metadata": {},
   "outputs": [
    {
     "name": "stdout",
     "output_type": "stream",
     "text": [
      "Hello Hello Hello Hello Hello Hello Hello Hello Hello Hello "
     ]
    }
   ],
   "source": [
    "for i in range(10):\n",
    "    print(\"Hello\", end=\" \")"
   ]
  },
  {
   "cell_type": "markdown",
   "metadata": {},
   "source": [
    "# Write a code to print the numers between 10-30 which are divisible by 5\n"
   ]
  },
  {
   "cell_type": "code",
   "execution_count": 1,
   "metadata": {},
   "outputs": [
    {
     "name": "stdout",
     "output_type": "stream",
     "text": [
      "10 15 20 25 30 "
     ]
    }
   ],
   "source": [
    "# for loop\n",
    "for i in range(10,31):\n",
    "    if i%5==0:\n",
    "        print(i, end=\" \")"
   ]
  },
  {
   "cell_type": "code",
   "execution_count": 2,
   "metadata": {},
   "outputs": [
    {
     "name": "stdout",
     "output_type": "stream",
     "text": [
      "10 15 20 25 30 "
     ]
    }
   ],
   "source": [
    "# while loop\n",
    "i = 10\n",
    "while i<31:\n",
    "    if i%5==0:\n",
    "        print(i, end=\" \")\n",
    "    i+=1"
   ]
  },
  {
   "cell_type": "markdown",
   "metadata": {},
   "source": [
    "## Letting the User Choose When to Quit"
   ]
  },
  {
   "cell_type": "code",
   "execution_count": 3,
   "metadata": {},
   "outputs": [
    {
     "name": "stdout",
     "output_type": "stream",
     "text": [
      "\n",
      "Tell me anything and I will repeat it back to you. Enter 'quit' to end the loop.hello\n",
      "The user input is:  hello\n",
      "\n",
      "Tell me anything and I will repeat it back to you. Enter 'quit' to end the loop.how are you\n",
      "The user input is:  how are you\n",
      "\n",
      "Tell me anything and I will repeat it back to you. Enter 'quit' to end the loop.quit\n",
      "The user input is:  quit\n"
     ]
    }
   ],
   "source": [
    "prompt=\"\\nTell me anything and I will repeat it back to you. Enter \\'quit\\' to end the loop.\"\n",
    "\n",
    "message=\" \" # initialize \n",
    "while message != 'quit' :\n",
    "    message=input(prompt)\n",
    "    print(\"The user input is: \", message)"
   ]
  },
  {
   "cell_type": "markdown",
   "metadata": {},
   "source": [
    "## A Flag"
   ]
  },
  {
   "cell_type": "markdown",
   "metadata": {
    "slideshow": {
     "slide_type": "subslide"
    }
   },
   "source": [
    "### For a program that should run only as long as many conditions are true, you can define one variable that determines whether or not the entire program is active. This variable, called a `flag`, acts as a signal to the program."
   ]
  },
  {
   "cell_type": "code",
   "execution_count": 4,
   "metadata": {},
   "outputs": [
    {
     "name": "stdout",
     "output_type": "stream",
     "text": [
      "\n",
      "Tell me anything and I will repeat it back to you. Enter 'quit' to end the loop.hello\n",
      "hello\n",
      "\n",
      "Tell me anything and I will repeat it back to you. Enter 'quit' to end the loop.goodbye\n",
      "goodbye\n",
      "\n",
      "Tell me anything and I will repeat it back to you. Enter 'quit' to end the loop.quit\n"
     ]
    }
   ],
   "source": [
    "prompt=\"\\nTell me anything and I will repeat it back to you. Enter \\'quit\\' to end the loop.\"\n",
    "# flag\n",
    "message= \" \"\n",
    "active=True\n",
    "while active:\n",
    "    message=input(prompt)\n",
    "    if message=='quit':\n",
    "        active=False # flag turned off\n",
    "    else:\n",
    "        print(message)"
   ]
  },
  {
   "cell_type": "code",
   "execution_count": null,
   "metadata": {},
   "outputs": [],
   "source": []
  },
  {
   "cell_type": "markdown",
   "metadata": {},
   "source": [
    "## Using break to Exit a Loop\n",
    "To exit a while loop immediately without running any remaining code in the\n",
    "loop, regardless of the results of any conditional test, use the break statement."
   ]
  },
  {
   "cell_type": "code",
   "execution_count": 5,
   "metadata": {},
   "outputs": [
    {
     "name": "stdout",
     "output_type": "stream",
     "text": [
      "\n",
      "Tell me so,e of your friends names and I will repeat it back to you. Enter 'quit' to end the loop.kyle\n",
      "kyle\n",
      "\n",
      "Tell me so,e of your friends names and I will repeat it back to you. Enter 'quit' to end the loop.cole\n",
      "cole\n",
      "\n",
      "Tell me so,e of your friends names and I will repeat it back to you. Enter 'quit' to end the loop.quit\n"
     ]
    }
   ],
   "source": [
    "prompt=\"\\nTell me so,e of your friends names and I will repeat it back to you. Enter \\'quit\\' to end the loop.\"\n",
    "friends= \" \"\n",
    "active=True\n",
    "while active:\n",
    "    friends=input(prompt)\n",
    "    if friends=='quit':\n",
    "        break\n",
    "    else:\n",
    "        print(friends)\n"
   ]
  },
  {
   "cell_type": "code",
   "execution_count": null,
   "metadata": {},
   "outputs": [],
   "source": []
  },
  {
   "cell_type": "markdown",
   "metadata": {},
   "source": [
    "### Guess the number"
   ]
  },
  {
   "cell_type": "code",
   "execution_count": 9,
   "metadata": {},
   "outputs": [
    {
     "name": "stdout",
     "output_type": "stream",
     "text": [
      "\n",
      " Guess a number between 1 to 10: 3\n",
      "3\n",
      "Guess again\n",
      "\n",
      " Guess a number between 1 to 10: 2\n",
      "2\n",
      "Guess again\n",
      "\n",
      " Guess a number between 1 to 10: 5\n",
      "Correct Guess\n"
     ]
    }
   ],
   "source": [
    "prompt= \"\\n Guess a number between 1 to 10: \"\n",
    "numbe=0\n",
    "active=True\n",
    "while active:\n",
    "    number=int(input(prompt))\n",
    "    if number==5:\n",
    "        print(\"Correct Guess\")\n",
    "        break\n",
    "    else:\n",
    "        print(number)\n",
    "        print(\"Guess again\")"
   ]
  },
  {
   "cell_type": "code",
   "execution_count": null,
   "metadata": {},
   "outputs": [],
   "source": []
  },
  {
   "cell_type": "markdown",
   "metadata": {},
   "source": [
    "### Guess the number with proper direction"
   ]
  },
  {
   "cell_type": "code",
   "execution_count": 2,
   "metadata": {},
   "outputs": [
    {
     "name": "stdout",
     "output_type": "stream",
     "text": [
      "\n",
      " Guess a number between 1 to 10: 3\n",
      "Guess the number bigger than current guess.\n",
      "\n",
      " Guess a number between 1 to 10: 6\n",
      "Guess the number smaller than current guess.\n",
      "\n",
      " Guess a number between 1 to 10: 77\n",
      "Not a correct number, guess again.\n",
      "\n",
      " Guess a number between 1 to 10: 5\n",
      "You have guessed correctly!\n"
     ]
    }
   ],
   "source": [
    "prompt= \"\\n Guess a number between 1 to 10: \"\n",
    "active=True\n",
    "number=0\n",
    "while active:\n",
    "    number=int(input(prompt))\n",
    "    if number ==5:\n",
    "        print(\"You have guessed correctly!\")\n",
    "        break\n",
    "    elif number<5 and number>0:\n",
    "        print(\"Guess the number bigger than current guess.\")\n",
    "    elif number>5 and number<=10:\n",
    "        print(\"Guess the number smaller than current guess.\")\n",
    "    elif number>10 and number<0:\n",
    "        print(\"Please guess a number between 1 and 10\")\n",
    "    else:\n",
    "        print(\"Not a correct number, guess again.\")\n",
    "        "
   ]
  },
  {
   "cell_type": "markdown",
   "metadata": {},
   "source": [
    "### Break with for loop"
   ]
  },
  {
   "cell_type": "code",
   "execution_count": 3,
   "metadata": {},
   "outputs": [
    {
     "name": "stdout",
     "output_type": "stream",
     "text": [
      "10 11 12 13 14 "
     ]
    }
   ],
   "source": [
    "# print the numbers between 10-30\n",
    "# break the loop at the number 15\n",
    "for i in range(10,30):\n",
    "    if i==15:\n",
    "        break\n",
    "    print(i, end= \" \")\n"
   ]
  },
  {
   "cell_type": "code",
   "execution_count": null,
   "metadata": {},
   "outputs": [],
   "source": []
  },
  {
   "cell_type": "markdown",
   "metadata": {},
   "source": [
    "### Using continue in a Loop\n",
    "- Rather than breaking out of a loop entirely without executing the rest of its code, \n",
    "- you can use the continue statement to return to the beginning of the loop based on the result of a conditional test. \n",
    "- For example, consider a loop that counts from 1 to 10 but prints only the odd numbers in that range:"
   ]
  },
  {
   "cell_type": "code",
   "execution_count": 4,
   "metadata": {},
   "outputs": [
    {
     "name": "stdout",
     "output_type": "stream",
     "text": [
      "10 11 12 13 14 16 17 18 19 20 21 22 23 24 25 26 27 28 29 "
     ]
    }
   ],
   "source": [
    "for i in range(10,30):\n",
    "    if i==15:\n",
    "        continue\n",
    "    print(i, end=\" \")"
   ]
  },
  {
   "cell_type": "code",
   "execution_count": 5,
   "metadata": {},
   "outputs": [
    {
     "name": "stdout",
     "output_type": "stream",
     "text": [
      "1 3 5 7 9 "
     ]
    }
   ],
   "source": [
    "for i in range(1,11):\n",
    "    if i%2==0:\n",
    "        continue\n",
    "    print(i, end=\" \")"
   ]
  },
  {
   "cell_type": "code",
   "execution_count": null,
   "metadata": {},
   "outputs": [
    {
     "name": "stdout",
     "output_type": "stream",
     "text": [
      "1 "
     ]
    }
   ],
   "source": [
    "# while loop\n",
    "j=1\n",
    "while j<11:\n",
    "    if j%2==0:\n",
    "        continue\n",
    "    print(j, end=\" \")\n",
    "    j+=1"
   ]
  },
  {
   "cell_type": "markdown",
   "metadata": {},
   "source": [
    "### consider a loop (while/for) that counts from 10 to 20 but prints only the even numbers in that range, use continue statement:"
   ]
  },
  {
   "cell_type": "code",
   "execution_count": null,
   "metadata": {},
   "outputs": [],
   "source": [
    "# Inside a while loop a continue will not work. It will generate an infinite loop"
   ]
  },
  {
   "cell_type": "code",
   "execution_count": null,
   "metadata": {},
   "outputs": [],
   "source": []
  },
  {
   "cell_type": "markdown",
   "metadata": {},
   "source": [
    "### Avoiding Infinite Loops"
   ]
  },
  {
   "cell_type": "code",
   "execution_count": null,
   "metadata": {},
   "outputs": [],
   "source": []
  },
  {
   "cell_type": "code",
   "execution_count": null,
   "metadata": {},
   "outputs": [],
   "source": []
  },
  {
   "cell_type": "markdown",
   "metadata": {},
   "source": [
    "### Movie Tickets: A movie theater charges different ticket prices depending on a person’s age. \n",
    "- If a person is under the age of 3, the ticket is free; if they are between 3 and 12, the ticket is 10 dollar\n",
    "- if they are over age 12, the ticket is 15 dollar. \n",
    "Write a while loop in which you ask users their age, and then tell them the cost of their movie ticket."
   ]
  },
  {
   "cell_type": "code",
   "execution_count": 3,
   "metadata": {},
   "outputs": [
    {
     "name": "stdout",
     "output_type": "stream",
     "text": [
      "How old are you?, enter 'quit' when you are finished. 3\n",
      "The ticket is $10\n",
      "How old are you?, enter 'quit' when you are finished. 2\n",
      "Your ticket is free!\n",
      "How old are you?, enter 'quit' when you are finished. 6\n",
      "The ticket is $10\n",
      "How old are you?, enter 'quit' when you are finished. 13\n",
      "The ticket is $15\n",
      "How old are you?, enter 'quit' when you are finished. 0\n"
     ]
    }
   ],
   "source": [
    "prompt=\"How old are you?, enter 'quit' when you are finished. \"\n",
    "active=True\n",
    "while active:\n",
    "    age=int(input(prompt))\n",
    "    if age==0:\n",
    "        break\n",
    "    elif age<3:\n",
    "        print(\"Your ticket is free!\")\n",
    "    elif age<13 and age>2:\n",
    "        print(\"The ticket is $10\")\n",
    "    elif age>11:\n",
    "        print(\"The ticket is $15\")\n",
    "    else:\n",
    "        print(\"Please insert a real age\")"
   ]
  },
  {
   "cell_type": "markdown",
   "metadata": {},
   "source": [
    "## Using a while Loop with Lists and Dictionaries"
   ]
  },
  {
   "cell_type": "code",
   "execution_count": null,
   "metadata": {},
   "outputs": [],
   "source": []
  },
  {
   "cell_type": "markdown",
   "metadata": {},
   "source": [
    "### Moving Items from One List to Another"
   ]
  },
  {
   "cell_type": "code",
   "execution_count": 6,
   "metadata": {},
   "outputs": [
    {
     "name": "stdout",
     "output_type": "stream",
     "text": [
      "Ashley\n",
      "John\n",
      "Same\n",
      "Harry\n",
      "Final list: ['Ashley', 'John', 'Same', 'Harry']\n",
      "Ashley is my peer\n",
      "John is my peer\n",
      "Same is my peer\n",
      "Harry is my peer\n"
     ]
    }
   ],
   "source": [
    "# Name of the friends and move from friends list to peers \n",
    "# unpack the list\n",
    "friends=['Harry', 'Same', 'John', 'Ashley']\n",
    "peers=[]\n",
    "hold=\" \"\n",
    "while friends:\n",
    "    hold= friends.pop()\n",
    "    print(hold)\n",
    "    peers.append(hold)\n",
    "print(f\"Final list: {peers}\")\n",
    "\n",
    "# unpack the list\n",
    "for name in peers:\n",
    "    print(f\"{name} is my peer\")\n",
    "    "
   ]
  },
  {
   "cell_type": "code",
   "execution_count": null,
   "metadata": {},
   "outputs": [],
   "source": []
  },
  {
   "cell_type": "markdown",
   "metadata": {},
   "source": [
    "### Removing All Instances of Specific Values from a List"
   ]
  },
  {
   "cell_type": "code",
   "execution_count": 14,
   "metadata": {},
   "outputs": [
    {
     "name": "stdout",
     "output_type": "stream",
     "text": [
      "['dog', 'cat', 'dog', 'goldfish', 'cat', 'rabbit', 'cat']\n",
      "New list: ['dog', 'dog', 'goldfish', 'rabbit']\n",
      "Final list: ['goldfish', 'rabbit']\n"
     ]
    }
   ],
   "source": [
    "pets=['dog', 'cat', 'dog', 'goldfish', 'cat', 'rabbit', 'cat']\n",
    "print(pets)\n",
    "# remove cat from the list\n",
    "while 'cat' in pets:\n",
    "    pets.remove('cat')\n",
    "print(f\"New list: {pets}\")\n",
    "while 'dog' in pets:\n",
    "    pets.remove('dog')\n",
    "print(f\"Final list: {pets}\")"
   ]
  },
  {
   "cell_type": "code",
   "execution_count": null,
   "metadata": {},
   "outputs": [],
   "source": []
  },
  {
   "cell_type": "markdown",
   "metadata": {},
   "source": [
    "### Filling a Dictionary with User Input"
   ]
  },
  {
   "cell_type": "markdown",
   "metadata": {},
   "source": [
    "#### asking the user to input their name as dictionary keys and their favourite food as dict values"
   ]
  },
  {
   "cell_type": "code",
   "execution_count": 1,
   "metadata": {},
   "outputs": [
    {
     "name": "stdout",
     "output_type": "stream",
     "text": [
      "What is your name: ani\n",
      "What is your favourite food: rice\n",
      "{'ani': 'rice'}\n",
      "Would you like to add another entry? (yes/no)yes\n",
      "What is your name: carl\n",
      "What is your favourite food: apple\n",
      "{'ani': 'rice', 'carl': 'apple'}\n",
      "Would you like to add another entry? (yes/no)no\n",
      "{'ani': 'rice', 'carl': 'apple'}\n",
      "ani loves to eat rice\n",
      "carl loves to eat apple\n"
     ]
    }
   ],
   "source": [
    "response={}\n",
    "# poll is a flag\n",
    "poll=True\n",
    "while poll:\n",
    "    name=input(\"What is your name: \")\n",
    "    food=input(\"What is your favourite food: \")\n",
    "    # update method to add items to a dict\n",
    "    response.update({name:food})\n",
    "    print(response)\n",
    "    repeat=input(\"Would you like to add another entry? (yes/no)\")\n",
    "    if repeat=='no':\n",
    "        poll=False\n",
    "        # break\n",
    "print(response)\n",
    "# unpack the dictionary\n",
    "for name,food in response.items():\n",
    "    print(f\"{name} loves to eat {food}\")"
   ]
  },
  {
   "cell_type": "markdown",
   "metadata": {},
   "source": [
    "## Shopping\n",
    "#### create a dictionary with 5 items and the quantity\n",
    "- key is item name\n",
    "- value is quantity"
   ]
  },
  {
   "cell_type": "code",
   "execution_count": 3,
   "metadata": {},
   "outputs": [
    {
     "name": "stdout",
     "output_type": "stream",
     "text": [
      "The food item is: apple\n",
      "The quantity is: 5\n",
      "{'apple': 5}\n",
      "Would you like to add another entry? (yes/no)yes\n",
      "The food item is: carrot\n",
      "The quantity is: 8\n",
      "{'apple': 5, 'carrot': 8}\n",
      "Would you like to add another entry? (yes/no)yes\n",
      "The food item is: pear\n",
      "The quantity is: 4\n",
      "{'apple': 5, 'carrot': 8, 'pear': 4}\n",
      "Would you like to add another entry? (yes/no)yes\n",
      "The food item is: celery\n",
      "The quantity is: 9\n",
      "{'apple': 5, 'carrot': 8, 'pear': 4, 'celery': 9}\n",
      "Would you like to add another entry? (yes/no)yes\n",
      "The food item is: cucumber\n",
      "The quantity is: 6\n",
      "{'apple': 5, 'carrot': 8, 'pear': 4, 'celery': 9, 'cucumber': 6}\n",
      "Would you like to add another entry? (yes/no)no\n",
      "{'apple': 5, 'carrot': 8, 'pear': 4, 'celery': 9, 'cucumber': 6}\n",
      "apple 5\n",
      "carrot 8\n",
      "pear 4\n",
      "celery 9\n",
      "cucumber 6\n"
     ]
    }
   ],
   "source": [
    "grocery={}\n",
    "poll=True\n",
    "while poll:\n",
    "    name=input(\"The food item is: \")\n",
    "    quantity=int(input(\"The quantity is: \"))\n",
    "    grocery.update({name:quantity})\n",
    "    print(grocery)\n",
    "    repeat=input(\"Would you like to add another entry? (yes/no)\")\n",
    "    if repeat =='no':\n",
    "        poll=False\n",
    "print(grocery)\n",
    "for k,v in grocery.items():\n",
    "    print(f\"{k} {v}\")"
   ]
  },
  {
   "cell_type": "markdown",
   "metadata": {},
   "source": [
    "## Deli: Make a list called sandwich_orders and fill it with the names of various sandwiches. \n",
    "- Then make an empty list called finished_sandwiches. \n",
    "- Loop through the list of sandwich orders and print a message for each order, such as I made your tuna sandwich. \n",
    "- As each sandwich is made, move it to the list of finished sandwiches. \n",
    "- After all the sandwiches have been made, print a message listing each sandwich that was made."
   ]
  },
  {
   "cell_type": "code",
   "execution_count": 11,
   "metadata": {},
   "outputs": [
    {
     "name": "stdout",
     "output_type": "stream",
     "text": [
      "I'm working on yourEgg Saladsandwich.\n",
      "I'm working on yourTurkeysandwich.\n",
      "I'm working on yourHamsandwich.\n",
      "\n",
      "\n",
      "I made aEgg Salad sandwich.\n",
      "I made aTurkey sandwich.\n",
      "I made aHam sandwich.\n"
     ]
    }
   ],
   "source": [
    "sandwich_orders=['Ham', 'Turkey', 'Egg Salad']\n",
    "finished_sandwiches=[]\n",
    "#for sandwich in sandwich_orders:\n",
    "   # print(f\"I made you a {sandwich} sandwich\")\n",
    "\n",
    "while sandwich_orders:\n",
    "    current_sandwich=sandwich_orders.pop()\n",
    "    print(\"I'm working on your\" +current_sandwich+\"sandwich.\")\n",
    "    finished_sandwiches.append(current_sandwich)\n",
    "    \n",
    "print(\"\\n\")\n",
    "for sandwich in finished_sandwiches:\n",
    "    print(\"I made a\" +sandwich+\" sandwich.\")\n"
   ]
  },
  {
   "cell_type": "code",
   "execution_count": null,
   "metadata": {},
   "outputs": [],
   "source": []
  },
  {
   "cell_type": "markdown",
   "metadata": {},
   "source": [
    "## Write a program to print n natural number in descending order using a while loop.\n"
   ]
  },
  {
   "cell_type": "code",
   "execution_count": 4,
   "metadata": {},
   "outputs": [
    {
     "name": "stdout",
     "output_type": "stream",
     "text": [
      "Enter the value of n: 10\n",
      "10\n",
      "9\n",
      "8\n",
      "7\n",
      "6\n",
      "5\n",
      "4\n",
      "3\n",
      "2\n",
      "1\n"
     ]
    }
   ],
   "source": [
    "n=int(input(\"Enter the value of n: \"))\n",
    "# loop will end at 0\n",
    "while n!=0:\n",
    "    print(n)\n",
    "    n=n-1\n"
   ]
  },
  {
   "cell_type": "code",
   "execution_count": null,
   "metadata": {},
   "outputs": [],
   "source": []
  },
  {
   "cell_type": "markdown",
   "metadata": {},
   "source": [
    "## Factorial of a number"
   ]
  },
  {
   "cell_type": "code",
   "execution_count": 1,
   "metadata": {},
   "outputs": [
    {
     "name": "stdout",
     "output_type": "stream",
     "text": [
      "Enter a number 3\n",
      "6\n"
     ]
    }
   ],
   "source": [
    "# home\n",
    "n = int(input(\"Enter a number \"))\n",
    "fact = 1\n",
    "while(n):\n",
    "    fact = fact * n\n",
    "    n = n-1\n",
    "print(fact)"
   ]
  },
  {
   "cell_type": "code",
   "execution_count": null,
   "metadata": {},
   "outputs": [],
   "source": []
  },
  {
   "cell_type": "markdown",
   "metadata": {},
   "source": [
    "## Take 10 integers from keyboard using loop and print their sum and average value on the screen"
   ]
  },
  {
   "cell_type": "code",
   "execution_count": 2,
   "metadata": {},
   "outputs": [
    {
     "name": "stdout",
     "output_type": "stream",
     "text": [
      "Enter number: 2\n",
      "Enter number: 3\n",
      "Enter number: 4\n",
      "Enter number: 5\n",
      "Enter number: 6\n",
      "Enter number: 7\n",
      "Enter number: 8\n",
      "Enter number: 9\n",
      "Enter number: 10\n",
      "Enter number: 11\n",
      "Enter number: 10\n",
      "average is 7.5\n"
     ]
    }
   ],
   "source": [
    "# home\n",
    "sum = 0\n",
    "i = 0\n",
    "while i<=10:\n",
    "    num = int(input(\"Enter number: \"))\n",
    "    sum = sum+ num\n",
    "    i = i+1\n",
    "print(\"average is\", sum/10)"
   ]
  },
  {
   "cell_type": "code",
   "execution_count": null,
   "metadata": {},
   "outputs": [],
   "source": []
  },
  {
   "attachments": {
    "image.png": {
     "image/png": "[encoded data removed]"
    }
   },
   "cell_type": "markdown",
   "metadata": {},
   "source": [
    "## Print the following patterns using loop :\n",
    "![image.png](attachment:image.png)"
   ]
  },
  {
   "cell_type": "code",
   "execution_count": 4,
   "metadata": {},
   "outputs": [
    {
     "name": "stdout",
     "output_type": "stream",
     "text": [
      "*\n",
      "**\n",
      "***\n",
      "****\n"
     ]
    }
   ],
   "source": [
    "# print starts\n",
    "i=1\n",
    "while i<=4:\n",
    "    print(i*\"*\")\n",
    "    i+=1"
   ]
  },
  {
   "cell_type": "markdown",
   "metadata": {},
   "source": [
    "## Write a program to display the first 7 multiples of 7.\n"
   ]
  },
  {
   "cell_type": "code",
   "execution_count": 9,
   "metadata": {},
   "outputs": [
    {
     "name": "stdout",
     "output_type": "stream",
     "text": [
      "7 14 21 28 35 42 49 56 "
     ]
    }
   ],
   "source": [
    "count=0\n",
    "for i in range(1,100):\n",
    "    if i%7==0:\n",
    "        print(i, end=\" \")\n",
    "        count=count+1\n",
    "        #print(\"count\", count)\n",
    "        if count==8:\n",
    "            break"
   ]
  },
  {
   "cell_type": "markdown",
   "metadata": {},
   "source": [
    "## Write a program that appends the square of each number to a new list."
   ]
  },
  {
   "cell_type": "code",
   "execution_count": 11,
   "metadata": {},
   "outputs": [
    {
     "name": "stdout",
     "output_type": "stream",
     "text": [
      "[1, 4, 9, 16, 25]\n"
     ]
    }
   ],
   "source": [
    "x=[1,2,3,4,5]\n",
    "output=[]\n",
    "\n",
    "for i in x:\n",
    "    output.append(i**2)\n",
    "print(output)"
   ]
  },
  {
   "cell_type": "markdown",
   "metadata": {},
   "source": [
    "## Separate positive and negative number from a list.\n",
    "x = [23,12,-4,23,-9,21,3,-45,-8]"
   ]
  },
  {
   "cell_type": "code",
   "execution_count": 13,
   "metadata": {},
   "outputs": [
    {
     "name": "stdout",
     "output_type": "stream",
     "text": [
      "Positive list:  [23, 12, 23, 21, 3]\n",
      "Negative list:  [-4, -9, -45, -8]\n"
     ]
    }
   ],
   "source": [
    "x = [23,12,-4,23,-9,21,3,-45,-8]\n",
    "pos=[]\n",
    "neg=[]\n",
    "\n",
    "for i in x:\n",
    "    if i>=0:\n",
    "        pos.append(i)\n",
    "    else:\n",
    "        neg.append(i)\n",
    "print(\"Positive list: \",pos)\n",
    "print(\"Negative list: \",neg)\n",
    "    \n",
    "    "
   ]
  },
  {
   "cell_type": "code",
   "execution_count": null,
   "metadata": {},
   "outputs": [],
   "source": []
  }
 ],
 "metadata": {
  "celltoolbar": "Slideshow",
  "kernelspec": {
   "display_name": "Python 3 (ipykernel)",
   "language": "python",
   "name": "python3"
  },
  "language_info": {
   "codemirror_mode": {
    "name": "ipython",
    "version": 3
   },
   "file_extension": ".py",
   "mimetype": "text/x-python",
   "name": "python",
   "nbconvert_exporter": "python",
   "pygments_lexer": "ipython3",
   "version": "3.11.4"
  }
 },
 "nbformat": 4,
 "nbformat_minor": 2
}
