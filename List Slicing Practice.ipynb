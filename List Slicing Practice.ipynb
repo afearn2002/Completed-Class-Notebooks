{
 "cells": [
  {
   "cell_type": "markdown",
   "id": "84114222",
   "metadata": {},
   "source": [
    "### Practice Questions on Lists\n",
    "(Submit the notebook on Moodle using Github along with the class notebook)"
   ]
  },
  {
   "cell_type": "markdown",
   "id": "0891df79",
   "metadata": {},
   "source": [
    "### numbers = [0, 1, 2, 3, 4, 5, 6, 7, 8, 9]\n",
    "1. Get the first three elements.\n",
    "2. Get elements from index 3 to 6 (inclusive).\n",
    "3. Get the last three elements.\n",
    "4. Get every second element from the list.\n",
    "5. Get a reverse of the list."
   ]
  },
  {
   "cell_type": "code",
   "execution_count": 2,
   "id": "5efba997",
   "metadata": {},
   "outputs": [],
   "source": [
    "numbers= [0, 1, 2, 3, 4, 5, 6, 7, 8, 9]"
   ]
  },
  {
   "cell_type": "code",
   "execution_count": 3,
   "id": "2183500f",
   "metadata": {},
   "outputs": [
    {
     "name": "stdout",
     "output_type": "stream",
     "text": [
      "first three numbers: [0, 1, 2]\n"
     ]
    }
   ],
   "source": [
    "print(f\"first three numbers: {numbers[:3]}\")"
   ]
  },
  {
   "cell_type": "code",
   "execution_count": 4,
   "id": "247bfecb",
   "metadata": {
    "scrolled": true
   },
   "outputs": [
    {
     "name": "stdout",
     "output_type": "stream",
     "text": [
      "numbers index 3 to 6: [3, 4, 5, 6]\n"
     ]
    }
   ],
   "source": [
    "print(f\"numbers index 3 to 6: {numbers[3:7]}\") #to include the last go one more number ex: for 6 go to 7"
   ]
  },
  {
   "cell_type": "code",
   "execution_count": 5,
   "id": "38558036",
   "metadata": {},
   "outputs": [
    {
     "name": "stdout",
     "output_type": "stream",
     "text": [
      "The last three numbers: [7, 8, 9]\n"
     ]
    }
   ],
   "source": [
    "print(f\"The last three numbers: {numbers[-3:]}\")"
   ]
  },
  {
   "cell_type": "code",
   "execution_count": 7,
   "id": "71cf9408",
   "metadata": {},
   "outputs": [
    {
     "name": "stdout",
     "output_type": "stream",
     "text": [
      "every second element: [9, 7, 5, 3, 1]\n"
     ]
    }
   ],
   "source": [
    "print(f\"every second element: {numbers[::2]}\")"
   ]
  },
  {
   "cell_type": "code",
   "execution_count": 6,
   "id": "9ccc2f2e",
   "metadata": {},
   "outputs": [
    {
     "name": "stdout",
     "output_type": "stream",
     "text": [
      "[9, 8, 7, 6, 5, 4, 3, 2, 1, 0]\n"
     ]
    }
   ],
   "source": [
    "numbers.reverse() #or {numbers[::-1]}\n",
    "print(numbers)"
   ]
  },
  {
   "cell_type": "markdown",
   "id": "dcc22463",
   "metadata": {},
   "source": [
    "### letters = ['a', 'b', 'c', 'd', 'e', 'f', 'g', 'h', 'i', 'j']\n",
    "1. Get every second letter starting from the first letter.\n",
    "2. Get every third letter starting from the second letter.\n",
    "3. Get every fourth letter starting from the third letter."
   ]
  },
  {
   "cell_type": "code",
   "execution_count": 8,
   "id": "34576f2b",
   "metadata": {},
   "outputs": [
    {
     "name": "stdout",
     "output_type": "stream",
     "text": [
      "every second letter: ['a', 'c', 'e', 'g', 'i']\n"
     ]
    }
   ],
   "source": [
    "letters= ['a', 'b', 'c', 'd', 'e', 'f', 'g', 'h', 'i', 'j']\n",
    "print(f\"every second letter: {letters[::2]}\")"
   ]
  },
  {
   "cell_type": "code",
   "execution_count": 15,
   "id": "7f3f0694",
   "metadata": {},
   "outputs": [
    {
     "name": "stdout",
     "output_type": "stream",
     "text": [
      "every third letter starting from the second letter: ['b', 'e', 'h']\n"
     ]
    }
   ],
   "source": [
    "print(f\"every third letter starting from the second letter: {letters[1::3]}\")"
   ]
  },
  {
   "cell_type": "code",
   "execution_count": 14,
   "id": "7ef8d3aa",
   "metadata": {},
   "outputs": [
    {
     "name": "stdout",
     "output_type": "stream",
     "text": [
      "every fourth letter starting from the third letter; ['c', 'g']\n"
     ]
    }
   ],
   "source": [
    "print(f\"every fourth letter starting from the third letter; {letters[2::4]}\")"
   ]
  },
  {
   "cell_type": "markdown",
   "id": "ee041ed9",
   "metadata": {},
   "source": [
    "### colors = ['red', 'green', 'blue', 'yellow', 'purple']\n",
    "1. Get the last two elements.\n",
    "2. Get elements from the third to the last element.\n",
    "3. Get a reverse of the list using negative indexing."
   ]
  },
  {
   "cell_type": "code",
   "execution_count": 11,
   "id": "0e5e09a0",
   "metadata": {},
   "outputs": [
    {
     "name": "stdout",
     "output_type": "stream",
     "text": [
      "last two elements: ['yellow', 'purple']\n"
     ]
    }
   ],
   "source": [
    "colors= ['red', 'green', 'blue', 'yellow', 'purple']\n",
    "print(f\"last two elements: {colors[-2:]}\")"
   ]
  },
  {
   "cell_type": "code",
   "execution_count": 16,
   "id": "54a6f796",
   "metadata": {},
   "outputs": [
    {
     "name": "stdout",
     "output_type": "stream",
     "text": [
      "Elements from the third to the last elemet: ['blue', 'yellow', 'purple']\n"
     ]
    }
   ],
   "source": [
    "print(f\"Elements from the third to the last elemet: {colors[2:]}\")"
   ]
  },
  {
   "cell_type": "code",
   "execution_count": 18,
   "id": "8ec76470",
   "metadata": {},
   "outputs": [
    {
     "name": "stdout",
     "output_type": "stream",
     "text": [
      "The reverse list: ['purple', 'yellow', 'blue', 'green', 'red']\n"
     ]
    }
   ],
   "source": [
    "print(f\"The reverse list: {colors[::-1]}\")"
   ]
  },
  {
   "cell_type": "code",
   "execution_count": 21,
   "id": "ac8632bb",
   "metadata": {},
   "outputs": [
    {
     "name": "stdout",
     "output_type": "stream",
     "text": [
      "Revers the list with step of 2: ['purple', 'blue', 'red']\n"
     ]
    }
   ],
   "source": [
    "print(f\"Revers the list with step of 2: {colors[::-2]}\")"
   ]
  },
  {
   "cell_type": "markdown",
   "id": "015a43d4",
   "metadata": {},
   "source": [
    "## Slicing Nested Lists\n",
    "### matrix = [[1, 2, 3], [4, 5, 6], [7, 8, 9]]\n",
    "1. Extract the second row (list [4, 5, 6]).\n",
    "2. Extract the number 2.\n",
    "3. Extract the number 9."
   ]
  },
  {
   "cell_type": "code",
   "execution_count": 22,
   "id": "b45aca96",
   "metadata": {},
   "outputs": [],
   "source": [
    "matrix = [[1, 2, 3], [4, 5, 6], [7, 8, 9]]"
   ]
  },
  {
   "cell_type": "code",
   "execution_count": 23,
   "id": "3cef0e46",
   "metadata": {},
   "outputs": [
    {
     "name": "stdout",
     "output_type": "stream",
     "text": [
      "Extract the second row: [4, 5, 6]\n"
     ]
    }
   ],
   "source": [
    "print(f\"Extract the second row: {matrix[1]}\")"
   ]
  },
  {
   "cell_type": "code",
   "execution_count": 24,
   "id": "f6912ee9",
   "metadata": {},
   "outputs": [
    {
     "name": "stdout",
     "output_type": "stream",
     "text": [
      "Number 2: 2\n"
     ]
    }
   ],
   "source": [
    "print(f\"Number 2: {matrix[0][1]}\")"
   ]
  },
  {
   "cell_type": "code",
   "execution_count": 25,
   "id": "c15b138f",
   "metadata": {},
   "outputs": [
    {
     "name": "stdout",
     "output_type": "stream",
     "text": [
      "Number 9: 9\n"
     ]
    }
   ],
   "source": [
    "print(f\"Number 9: {matrix[2][2]}\")"
   ]
  },
  {
   "cell_type": "markdown",
   "id": "2e3c0a01",
   "metadata": {},
   "source": [
    "### Matrix1=['Day',[23,45],'Monday',[[12,13],[14,15]]]\n",
    "- print monday\n",
    "- print 13\n",
    "- print 15\n",
    "- print 45\n",
    "- print day"
   ]
  },
  {
   "cell_type": "code",
   "execution_count": 26,
   "id": "4efefd1f",
   "metadata": {},
   "outputs": [
    {
     "name": "stdout",
     "output_type": "stream",
     "text": [
      "['Day', [23, 45], 'Monday', [[12, 13], [14, 15]]]\n"
     ]
    }
   ],
   "source": [
    "Matrix1=['Day',[23,45],'Monday',[[12,13],[14,15]]]\n",
    "print(Matrix1)"
   ]
  },
  {
   "cell_type": "code",
   "execution_count": 27,
   "id": "428b13f5",
   "metadata": {},
   "outputs": [
    {
     "name": "stdout",
     "output_type": "stream",
     "text": [
      "Print of Monday: Monday\n"
     ]
    }
   ],
   "source": [
    "print(f\"Print of Monday: {Matrix1[2]}\")"
   ]
  },
  {
   "cell_type": "code",
   "execution_count": 29,
   "id": "6b5dfb9a",
   "metadata": {},
   "outputs": [
    {
     "name": "stdout",
     "output_type": "stream",
     "text": [
      "Print 13: 13\n"
     ]
    }
   ],
   "source": [
    "print(f\"Print 13: {Matrix1[3][0][1]}\")"
   ]
  },
  {
   "cell_type": "code",
   "execution_count": 30,
   "id": "21f357aa",
   "metadata": {},
   "outputs": [
    {
     "name": "stdout",
     "output_type": "stream",
     "text": [
      "print 15: 15\n"
     ]
    }
   ],
   "source": [
    "print(f\"print 15: {Matrix1[3][1][1]}\")"
   ]
  },
  {
   "cell_type": "code",
   "execution_count": 31,
   "id": "4eb3adcf",
   "metadata": {},
   "outputs": [
    {
     "name": "stdout",
     "output_type": "stream",
     "text": [
      "print 45: 45\n"
     ]
    }
   ],
   "source": [
    "print(f\"print 45: {Matrix1[1][1]}\")"
   ]
  },
  {
   "cell_type": "code",
   "execution_count": 32,
   "id": "6799736f",
   "metadata": {},
   "outputs": [
    {
     "name": "stdout",
     "output_type": "stream",
     "text": [
      "Print day: Day\n"
     ]
    }
   ],
   "source": [
    "print(f\"Print day: {Matrix1[0]}\")"
   ]
  }
 ],
 "metadata": {
  "kernelspec": {
   "display_name": "Python 3 (ipykernel)",
   "language": "python",
   "name": "python3"
  },
  "language_info": {
   "codemirror_mode": {
    "name": "ipython",
    "version": 3
   },
   "file_extension": ".py",
   "mimetype": "text/x-python",
   "name": "python",
   "nbconvert_exporter": "python",
   "pygments_lexer": "ipython3",
   "version": "3.11.4"
  }
 },
 "nbformat": 4,
 "nbformat_minor": 5
}
